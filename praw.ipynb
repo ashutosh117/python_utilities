{
 "cells": [
  {
   "cell_type": "code",
   "execution_count": 1,
   "metadata": {},
   "outputs": [],
   "source": [
    "import praw"
   ]
  },
  {
   "cell_type": "code",
   "execution_count": 2,
   "metadata": {},
   "outputs": [],
   "source": [
    "user_agent = ''\n",
    "client_id=''\n",
    "client_secret=''\n",
    "username=''\n",
    "password=''\n",
    "reddit = praw.Reddit(user_agent=user_agent,client_id=client_id,client_secret=client_secret,\n",
    "                    username=username,password=password)"
   ]
  },
  {
   "cell_type": "code",
   "execution_count": 3,
   "metadata": {},
   "outputs": [],
   "source": [
    "subreddit = reddit.subreddit('batman')\n",
    "hot_sarcasm = subreddit.hot(limit = 3)"
   ]
  },
  {
   "cell_type": "code",
   "execution_count": 4,
   "metadata": {},
   "outputs": [
    {
     "name": "stdout",
     "output_type": "stream",
     "text": [
      "Side by side comparison of my 2 armored suits. Armored Batman and Armored Batgirl both made by me using Eva foam! Check out my insta @tjh_cosplay\n",
      "-------------------------------------------------- COMMENTS -------------------------------------------------\n",
      "--------------------------------------------------\n",
      "What would you say is the hardest thing or trickeiest thing with working with Eva foam? these look awesome btw\n",
      "--------------------------------------------------\n",
      "Damn that armored batgirl looks badass. I wish it was availabe as a skin for batgirl in Arkham Knight.\n",
      "--------------------------------------------------\n",
      "Both are awesome, but the color scheme in the Batgirl one, plus the shape of the ears, gives me a strong Hawkgirl vibe.\n",
      "--------------------------------------------------\n",
      "Love the belt on Batgirl. \n",
      "Both look phenomenal overall. \n",
      "--------------------------------------------------\n",
      "mate, that is some really cool bat-family suit\n",
      "--------------------------------------------------\n",
      "how do you get that thick EVA foam to stay shaped like that? I'm having a hell of a time making a circle with a much wider angle\n",
      "--------------------------------------------------\n",
      "With that level of spinal protection Barbara is gonna need a wheelchair. \n",
      "--------------------------------------------------\n",
      "\n",
      "You do fantastic work!\n",
      "--------------------------------------------------\n",
      "I’ve wanted to get into doing this but I don’t know where to buy EVA foam. Where do you get it?\n",
      "--------------------------------------------------\n",
      "batgirl design looks so legit more than batman design in the movies\n",
      "\n",
      "--------------------------------------------------\n",
      "Wow wow wow! 😀\n",
      "--------------------------------------------------\n",
      "This is amazing work and clearly you've put a lot of time and effort into these great job man. But in saying that I do have to agree with the other posters concerning the boobs. I'm sure you didn't intend any offense but what it seems like you have done is fallen into a trap that has been plaguing fantasy and sci-fi armour design for decades now. The idea of adding boobs and taking away other parts to show more skin. \"Sexy atmour\" if you will. When in reality female armour was and is a real thing and the only real differences were and are the fit of the armour. Just my two cents. Like I said the craftsmanship and pieces themselves are amazing\n",
      "--------------------------------------------------\n",
      "Thar batgirl looks dope!!\n",
      "--------------------------------------------------\n",
      "What did you feel the need to add Armored tits to batgirl? Lmao\n",
      "--------------------------------------------------\n",
      "Honestly it’s mostly amazing. Not a lot you can’t do. Hardest thing would be transporting it. It gets wrecked very easily if not packed properly! \n",
      "--------------------------------------------------\n",
      "Telling your parents. \n",
      "--------------------------------------------------\n",
      "Yeah I went through many color changes and even ear changes over the course of the build. I’m happy with the colors but yeah I think the helmet is still not quite there. \n",
      "--------------------------------------------------\n",
      "Cheers mate!\n",
      "--------------------------------------------------\n",
      "Ohhh man seriously circles are THE WORST. So hard to cut accurately.  \n",
      "Heat shaping is the best way to go. I usually cut a a little pie slice out of it and glue that to make it work better. But if you hear it with a heat gun and then press it over a spherical object ( I just used a foam sphere I bought at a craft store) \n",
      "That works a treat! \n",
      "--------------------------------------------------\n",
      "Thanks mate!\n",
      "--------------------------------------------------\n",
      "Yeah I do know what people mean, mainly I was just following the Batman vibe from the games/comics and adding my own twist. But I certainly didn’t take away parts to add skin. It’s basically covers everything! I did want the shape to be more feminine, but mainly just to distinguish the two. (And because my wife liked it that way!)  I appreciate the thoughts and comment though! Cheers man! \n",
      "--------------------------------------------------\n",
      "Yeah I should have made it exactly he same as Batman and just called it Armored Batman.. \n",
      "You understand women have breasts right? \n",
      "--------------------------------------------------\n",
      "That's great to hear I've always thought about getting into cosplay but never really knew what materials would be great so it's nice to hear about this foam\n",
      "--------------------------------------------------\n",
      "How did you get started on learning how to make these ? YouTube?\n",
      "--------------------------------------------------\n",
      "https://www.reddit.com/r/armoredwomen/\n",
      "--------------------------------------------------\n",
      "Small suggestion. A uni-boob style breast plate akin to say Samus Aran from Metroid could easily be done also it allows for a more pronounced bat emblem. The idea of breast on arm does in reality cause potential for say a sword to catch on the external armor and act as a guiding for a stab or even cleave of a larger sword.\n",
      "\n",
      "Most armor in reality was bubbled out to act as a pillow like crumple zone for blows as well as a way to deflect blows as well, one continuous rounded full out chest plate would defect blows away from the chest like a bubble of protection with over lapped shoulders to keep it from catching or going into the arm pit.\n",
      "\n",
      "This is again classic armor but you do you. \n",
      "--------------------------------------------------\n",
      "Breast armor is super impractical. One solid hit and your whole chest is getting caved in. Course, it's EVA foam, and it's based on a comic book character, so that kind of stuff shouldn't really matter. Looks like an unarmored version of her Arkham Knight costume. \n",
      "\n",
      "Edit: up-armored not unarmored.\n",
      "--------------------------------------------------\n",
      "You understand the physics of a heavy blow on armor, right? You want it to spread force, not concentrate it. First fight with a heavy hitter, batgirl goes down and Batman has someone else to mourn. \n",
      "--------------------------------------------------\n",
      "[deleted]\n",
      "--------------------------------------------------\n",
      "Yeah it’s amazing man. I explain a lot more on my instagram if you want to check that out @Tjh_cosplay\n",
      "--------------------------------------------------\n",
      "Yeah you tube and just googling really! \n",
      "‘How to make shoulder armor out of Eva foam’\n",
      "‘How to make an Eva foam gauntlet’\n",
      "\n",
      "A guy named Evil Ted is amazing. He has templates on his site if you want to go that way. \n",
      "--------------------------------------------------\n",
      "/r/ofcoursethatsathing\n",
      "--------------------------------------------------\n",
      "Actually a very solid idea! I like it! \n",
      "--------------------------------------------------\n",
      "Looks good though! And yeah very much in the style of Batgirl. \n",
      "--------------------------------------------------\n",
      "No I’m afraid I did not study the physics of a heavy blow on armor while making fake Armor for a make believe character. \n",
      "Next time for sure! \n",
      "--------------------------------------------------\n",
      "Lmao what was hostile about that\n",
      "--------------------------------------------------\n",
      "That wasn't hostile, they just replied to your comment. \n",
      "--------------------------------------------------\n",
      "These idiots are acting like you're actually going to take this armor out and fight crime with it. Both sets look amazing, ESPECIALLY the Batgirl version. Absolutely incredible work!\n"
     ]
    }
   ],
   "source": [
    "for sub in hot_sarcasm:\n",
    "    if not sub.stickied:\n",
    "        print sub.title\n",
    "        \n",
    "        print \"-\"*50,'COMMENTS','-'*49\n",
    "        comments = sub.comments.list()\n",
    "        #print len(comments)\n",
    "        for comment in comments:\n",
    "            print '-'*50\n",
    "            #print \"parent id : \",comment.parent()\n",
    "            #print \"comment id : \",comment.id\n",
    "            print comment.body"
   ]
  },
  {
   "cell_type": "code",
   "execution_count": null,
   "metadata": {},
   "outputs": [],
   "source": []
  }
 ],
 "metadata": {
  "kernelspec": {
   "display_name": "Python 2",
   "language": "python",
   "name": "python2"
  },
  "language_info": {
   "codemirror_mode": {
    "name": "ipython",
    "version": 2
   },
   "file_extension": ".py",
   "mimetype": "text/x-python",
   "name": "python",
   "nbconvert_exporter": "python",
   "pygments_lexer": "ipython2",
   "version": "2.7.14"
  }
 },
 "nbformat": 4,
 "nbformat_minor": 2
}
